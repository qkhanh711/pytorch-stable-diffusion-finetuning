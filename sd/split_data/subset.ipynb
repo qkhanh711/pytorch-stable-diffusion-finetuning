{
 "cells": [
  {
   "cell_type": "code",
   "execution_count": 10,
   "metadata": {},
   "outputs": [
    {
     "name": "stdout",
     "output_type": "stream",
     "text": [
      "63\n"
     ]
    }
   ],
   "source": [
    "import os\n",
    "import sys\n",
    "\n",
    "sys.path.append(\"../\")\n",
    "\n",
    "data_path = \"../../../Training/\"\n",
    "\n",
    "print(len(os.listdir(data_path)))\n",
    "\n",
    "def sample_data(rate, path_saved, data_path):\n",
    "    import random\n",
    "    number_classes = rate * len(os.listdir(data_path))\n",
    "\n",
    "    classes = random.sample(os.listdir(data_path), int(number_classes))\n",
    "\n",
    "    for c in classes:\n",
    "        os.system(f\"cp -r {data_path}/{c} {path_saved}\")\n",
    "\n",
    "sample_data(0.5, \"../../../Training_sampled_0_5/\", data_path)\n",
    "sample_data(0.25, \"../../../Training_sampled_0_25/\", data_path)"
   ]
  }
 ],
 "metadata": {
  "kernelspec": {
   "display_name": "qkhanh",
   "language": "python",
   "name": "python3"
  },
  "language_info": {
   "codemirror_mode": {
    "name": "ipython",
    "version": 3
   },
   "file_extension": ".py",
   "mimetype": "text/x-python",
   "name": "python",
   "nbconvert_exporter": "python",
   "pygments_lexer": "ipython3",
   "version": "3.10.13"
  }
 },
 "nbformat": 4,
 "nbformat_minor": 2
}
